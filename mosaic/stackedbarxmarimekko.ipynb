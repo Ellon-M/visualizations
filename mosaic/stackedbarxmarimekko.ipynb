{
 "cells": [
  {
   "cell_type": "markdown",
   "id": "44d6794d",
   "metadata": {},
   "source": [
    " # STACKED BAR CHARTS & MARIMEKKO CHARTS\n",
    " \n",
    " Marimekko:\n",
    " Commonly referred to as Mosaic plots; spine plots or just Mekko.  "
   ]
  },
  {
   "cell_type": "markdown",
   "id": "109b7566",
   "metadata": {},
   "source": [
    "In essence, they are just stacked bar charts where the bar **widths** are used to display another variable - usually the group's proportion to the total."
   ]
  },
  {
   "cell_type": "code",
   "execution_count": 25,
   "id": "22756608",
   "metadata": {},
   "outputs": [],
   "source": [
    "import pandas as pd\n",
    "import numpy as np\n",
    "import matplotlib.cm as cmp\n",
    "import matplotlib.colors as cl\n",
    "import matplotlib.pyplot as plt\n",
    "import plotly.express as px\n",
    "import warnings\n",
    "from jupyterthemes import jtplot\n",
    "jtplot.style(theme='gruvboxl', grid=False)\n",
    "warnings.filterwarnings('ignore')"
   ]
  },
  {
   "cell_type": "code",
   "execution_count": 2,
   "id": "b5d83cdb",
   "metadata": {},
   "outputs": [],
   "source": [
    "olympics = pd.read_csv('./Olympics-Dataset.csv')"
   ]
  },
  {
   "cell_type": "markdown",
   "id": "41b3c066",
   "metadata": {},
   "source": [
    "Using the Olympic games dataset, and data on the Marathon event as it was the closest sounding thing to Marimekko.\n"
   ]
  },
  {
   "cell_type": "code",
   "execution_count": 3,
   "id": "f4a3daeb",
   "metadata": {},
   "outputs": [],
   "source": [
    "# selected countries to focus on\n",
    "focus = ['Ethiopia', 'Kenya', 'United States', 'Japan', 'Great Britain', 'South Korea', 'Portugal']"
   ]
  },
  {
   "cell_type": "code",
   "execution_count": 4,
   "id": "46f1eaae",
   "metadata": {},
   "outputs": [],
   "source": [
    "# selected events, queried\n",
    "marathon_men = olympics.query('''Event == \"Athletics Men's Marathon\" and Year > 1930''')"
   ]
  },
  {
   "cell_type": "code",
   "execution_count": 5,
   "id": "69aea65d",
   "metadata": {
    "scrolled": true
   },
   "outputs": [],
   "source": [
    "marathon_men_focus = marathon_men['Team'].value_counts()[focus]"
   ]
  },
  {
   "cell_type": "code",
   "execution_count": 6,
   "id": "78c682c3",
   "metadata": {},
   "outputs": [
    {
     "data": {
      "text/plain": [
       "Ethiopia         37\n",
       "Kenya            34\n",
       "United States    55\n",
       "Japan            53\n",
       "Great Britain    56\n",
       "South Korea      44\n",
       "Portugal         27\n",
       "Name: Team, dtype: int64"
      ]
     },
     "execution_count": 6,
     "metadata": {},
     "output_type": "execute_result"
    }
   ],
   "source": [
    "marathon_men_focus"
   ]
  },
  {
   "cell_type": "code",
   "execution_count": 21,
   "id": "7f95c53f",
   "metadata": {},
   "outputs": [],
   "source": [
    "marathon_men_focus_df = marathon_men[['Team', 'Medal']]"
   ]
  },
  {
   "cell_type": "code",
   "execution_count": 7,
   "id": "b789a59a",
   "metadata": {},
   "outputs": [],
   "source": [
    "# medals vs no medals in the event\n",
    "marathon_men_medals = marathon_men.query('~Medal.isnull()')\n",
    "marathon_men_no_medals = marathon_men.query('Medal.isnull()')"
   ]
  },
  {
   "cell_type": "code",
   "execution_count": 8,
   "id": "d7670d9c",
   "metadata": {
    "scrolled": false
   },
   "outputs": [],
   "source": [
    "marathon_men_focus_medals = marathon_men_medals['Team'].value_counts()[focus]\n",
    "marathon_men_focus_no_medals = marathon_men_no_medals['Team'].value_counts()[focus]"
   ]
  },
  {
   "cell_type": "code",
   "execution_count": 9,
   "id": "89979557",
   "metadata": {},
   "outputs": [
    {
     "data": {
      "text/plain": [
       "Ethiopia         29\n",
       "Kenya            27\n",
       "United States    51\n",
       "Japan            48\n",
       "Great Britain    51\n",
       "South Korea      42\n",
       "Portugal         26\n",
       "Name: Team, dtype: int64"
      ]
     },
     "execution_count": 9,
     "metadata": {},
     "output_type": "execute_result"
    }
   ],
   "source": [
    "marathon_men_focus_no_medals"
   ]
  },
  {
   "cell_type": "code",
   "execution_count": 10,
   "id": "4ef53dc0",
   "metadata": {
    "scrolled": true
   },
   "outputs": [
    {
     "data": {
      "text/plain": [
       "Ethiopia         8\n",
       "Kenya            7\n",
       "United States    4\n",
       "Japan            5\n",
       "Great Britain    5\n",
       "South Korea      2\n",
       "Portugal         1\n",
       "Name: Team, dtype: int64"
      ]
     },
     "execution_count": 10,
     "metadata": {},
     "output_type": "execute_result"
    }
   ],
   "source": [
    "marathon_men_focus_medals"
   ]
  },
  {
   "cell_type": "code",
   "execution_count": 11,
   "id": "7759fa6a",
   "metadata": {},
   "outputs": [],
   "source": [
    "# y values for athletes with medals\n",
    "y_b = []\n",
    "for man in marathon_men_focus_medals:\n",
    "    y_b.append(man)"
   ]
  },
  {
   "cell_type": "code",
   "execution_count": 13,
   "id": "89be491b",
   "metadata": {},
   "outputs": [
    {
     "data": {
      "text/plain": [
       "[8, 7, 4, 5, 5, 2, 1]"
      ]
     },
     "execution_count": 13,
     "metadata": {},
     "output_type": "execute_result"
    }
   ],
   "source": [
    "y_b"
   ]
  },
  {
   "cell_type": "code",
   "execution_count": 12,
   "id": "e4acbfba",
   "metadata": {},
   "outputs": [],
   "source": [
    "# y values for athletes without medals\n",
    "y_n = []\n",
    "for man in marathon_men_focus_no_medals:\n",
    "    y_n.append(man)"
   ]
  },
  {
   "cell_type": "code",
   "execution_count": 15,
   "id": "710b3949",
   "metadata": {},
   "outputs": [
    {
     "data": {
      "text/plain": [
       "[29, 27, 51, 48, 51, 42, 26]"
      ]
     },
     "execution_count": 15,
     "metadata": {},
     "output_type": "execute_result"
    }
   ],
   "source": [
    "y_n"
   ]
  },
  {
   "cell_type": "code",
   "execution_count": 13,
   "id": "9f83f127",
   "metadata": {},
   "outputs": [],
   "source": [
    "# x axis tick labels\n",
    "x_ticks = []\n",
    "for men in marathon_men_focus.index:\n",
    "    x_ticks.append(men)"
   ]
  },
  {
   "cell_type": "code",
   "execution_count": 17,
   "id": "bb92974d",
   "metadata": {},
   "outputs": [
    {
     "data": {
      "text/plain": [
       "['Ethiopia',\n",
       " 'Kenya',\n",
       " 'United States',\n",
       " 'Japan',\n",
       " 'Great Britain',\n",
       " 'South Korea',\n",
       " 'Portugal']"
      ]
     },
     "execution_count": 17,
     "metadata": {},
     "output_type": "execute_result"
    }
   ],
   "source": [
    "x_ticks"
   ]
  },
  {
   "cell_type": "code",
   "execution_count": 14,
   "id": "83dee9b1",
   "metadata": {},
   "outputs": [],
   "source": [
    "marathon_women = olympics.query('''Event == \"Athletics Women's Marathon\" and Year > 1930''')"
   ]
  },
  {
   "cell_type": "code",
   "execution_count": 15,
   "id": "870b2b37",
   "metadata": {
    "scrolled": true
   },
   "outputs": [],
   "source": [
    "marathon_women_focus = marathon_women[['Team', 'Medal']]"
   ]
  },
  {
   "cell_type": "code",
   "execution_count": 16,
   "id": "39c00c61",
   "metadata": {},
   "outputs": [],
   "source": [
    "marathon_women_mosaic = marathon_women_focus .query('''Team == \"Ethiopia\" or Team == \"Kenya\" or Team == \"United States\" or Team == \"Japan\" or Team == \"Great Britain\" or Team == \"South Korea\" or Team == \"Portugal\" ''')"
   ]
  },
  {
   "cell_type": "code",
   "execution_count": 17,
   "id": "2cf46815",
   "metadata": {
    "scrolled": false
   },
   "outputs": [],
   "source": [
    "marathon_women_mosaic = marathon_women_mosaic.loc[~marathon_women_mosaic.Medal.isnull()]"
   ]
  },
  {
   "cell_type": "code",
   "execution_count": 49,
   "id": "349d24ca",
   "metadata": {
    "scrolled": false
   },
   "outputs": [
    {
     "data": {
      "image/png": "[encoded data removed]",
      "text/plain": [
       "<Figure size 1728x864 with 1 Axes>"
      ]
     },
     "metadata": {},
     "output_type": "display_data"
    }
   ],
   "source": [
    "bar_width = 1\n",
    "bar_l = np.arange(0, len(x_ticks))\n",
    "tick_pos = [i + (bar_width / 2) for i in bar_l]\n",
    "\n",
    "fig, ax = plt.subplots(1, figsize=(24,12))\n",
    "\n",
    "plt.bar(x_ticks,\n",
    "        y_b,\n",
    "        width=1,\n",
    "        align='edge',\n",
    "        edgecolor='w',\n",
    "        linewidth=1.5,\n",
    "        color='skyblue',\n",
    "        label='Medals'\n",
    "        )\n",
    "\n",
    "plt.bar(x_ticks,\n",
    "       y_n,\n",
    "       bottom = y_b,\n",
    "       width = 1,\n",
    "        align='edge',\n",
    "        edgecolor='w',\n",
    "        linewidth=1.5,\n",
    "        color='tan',\n",
    "        label='No Medals'\n",
    "       )\n",
    "\n",
    "plt.xticks(tick_pos, x_ticks, fontsize=22)\n",
    "plt.legend(prop={'size': 20})\n",
    "plt.title(\"MEN'S MARATHON - MEDAL PER PERTICIPANT RATIO\", fontsize=44)\n",
    "plt.show()"
   ]
  },
  {
   "cell_type": "markdown",
   "id": "8ce6bc6d",
   "metadata": {},
   "source": [
    "Staked bars in plotly: \n"
   ]
  },
  {
   "cell_type": "code",
   "execution_count": 23,
   "id": "6a1445df",
   "metadata": {},
   "outputs": [],
   "source": [
    "marathon_men_focus_df = marathon_men_focus_df.query('''Team == \"Ethiopia\" or Team == \"Kenya\" or Team == \"United States\" or Team == \"Japan\" or Team == \"Great Britain\" or Team == \"South Korea\" or Team == \"Portugal\" ''')\n",
    "marathon_men_focus_df = marathon_men_focus_df.loc[~marathon_men_focus_df.Medal.isnull()]"
   ]
  },
  {
   "cell_type": "code",
   "execution_count": 45,
   "id": "12e14d0f",
   "metadata": {},
   "outputs": [
    {
     "data": {
      "application/vnd.plotly.v1+json": {
       "config": {
        "plotlyServerURL": "https://plot.ly"
       },
       "data": [
        {
         "alignmentgroup": "True",
         "customdata": [
          [
           "Gold"
          ],
          [
           "Gold"
          ],
          [
           "Gold"
          ],
          [
           "Gold"
          ],
          [
           "Gold"
          ],
          [
           "Gold"
          ],
          [
           "Gold"
          ],
          [
           "Gold"
          ],
          [
           "Gold"
          ],
          [
           "Gold"
          ]
         ],
         "hovertemplate": "Medal=%{customdata[0]}<br>Team=%{x}<br>Medal count=%{y}<extra></extra>",
         "legendgroup": "Gold",
         "marker": {
          "color": "yellow",
          "pattern": {
           "shape": ""
          }
         },
         "name": "Gold",
         "offsetgroup": "Gold",
         "orientation": "v",
         "showlegend": true,
         "text": [
          "Gold",
          "Gold",
          "Gold",
          "Gold",
          "Gold",
          "Gold",
          "Gold",
          "Gold",
          "Gold",
          "Gold"
         ],
         "textposition": "auto",
         "type": "bar",
         "x": [
          "Ethiopia",
          "Ethiopia",
          "Ethiopia",
          "South Korea",
          "Kenya",
          "Portugal",
          "United States",
          "Japan",
          "Kenya",
          "Ethiopia"
         ],
         "xaxis": "x",
         "y": [
          1,
          1,
          1,
          1,
          1,
          1,
          1,
          1,
          1,
          1
         ],
         "yaxis": "y"
        },
        {
         "alignmentgroup": "True",
         "customdata": [
          [
           "Silver"
          ],
          [
           "Silver"
          ],
          [
           "Silver"
          ],
          [
           "Silver"
          ],
          [
           "Silver"
          ],
          [
           "Silver"
          ],
          [
           "Silver"
          ],
          [
           "Silver"
          ],
          [
           "Silver"
          ],
          [
           "Silver"
          ],
          [
           "Silver"
          ],
          [
           "Silver"
          ],
          [
           "Silver"
          ]
         ],
         "hovertemplate": "Medal=%{customdata[0]}<br>Team=%{x}<br>Medal count=%{y}<extra></extra>",
         "legendgroup": "Silver",
         "marker": {
          "color": "silver",
          "pattern": {
           "shape": ""
          }
         },
         "name": "Silver",
         "offsetgroup": "Silver",
         "orientation": "v",
         "showlegend": true,
         "text": [
          "Silver",
          "Silver",
          "Silver",
          "Silver",
          "Silver",
          "Silver",
          "Silver",
          "Silver",
          "Silver",
          "Silver",
          "Silver",
          "Silver",
          "Silver"
         ],
         "textposition": "auto",
         "type": "bar",
         "x": [
          "Great Britain",
          "Great Britain",
          "Great Britain",
          "United States",
          "Japan",
          "Kenya",
          "South Korea",
          "Ethiopia",
          "Japan",
          "Great Britain",
          "United States",
          "Kenya",
          "Kenya"
         ],
         "xaxis": "x",
         "y": [
          1,
          1,
          1,
          1,
          1,
          1,
          1,
          1,
          1,
          1,
          1,
          1,
          1
         ],
         "yaxis": "y"
        },
        {
         "alignmentgroup": "True",
         "customdata": [
          [
           "Bronze"
          ],
          [
           "Bronze"
          ],
          [
           "Bronze"
          ],
          [
           "Bronze"
          ],
          [
           "Bronze"
          ],
          [
           "Bronze"
          ],
          [
           "Bronze"
          ],
          [
           "Bronze"
          ],
          [
           "Bronze"
          ]
         ],
         "hovertemplate": "Medal=%{customdata[0]}<br>Team=%{x}<br>Medal count=%{y}<extra></extra>",
         "legendgroup": "Bronze",
         "marker": {
          "color": "orange",
          "pattern": {
           "shape": ""
          }
         },
         "name": "Bronze",
         "offsetgroup": "Bronze",
         "orientation": "v",
         "showlegend": true,
         "text": [
          "Bronze",
          "Bronze",
          "Bronze",
          "Bronze",
          "Bronze",
          "Bronze",
          "Bronze",
          "Bronze",
          "Bronze"
         ],
         "textposition": "auto",
         "type": "bar",
         "x": [
          "Ethiopia",
          "Kenya",
          "Japan",
          "United States",
          "Great Britain",
          "Ethiopia",
          "Japan",
          "Kenya",
          "Ethiopia"
         ],
         "xaxis": "x",
         "y": [
          1,
          1,
          1,
          1,
          1,
          1,
          1,
          1,
          1
         ],
         "yaxis": "y"
        }
       ],
       "layout": {
        "barmode": "relative",
        "legend": {
         "title": {
          "text": "Medal"
         },
         "tracegroupgap": 0
        },
        "template": {
         "data": {
          "bar": [
           {
            "error_x": {
             "color": "#2a3f5f"
            },
            "error_y": {
             "color": "#2a3f5f"
            },
            "marker": {
             "line": {
              "color": "white",
              "width": 0.5
             },
             "pattern": {
              "fillmode": "overlay",
              "size": 10,
              "solidity": 0.2
             }
            },
            "type": "bar"
           }
          ],
          "barpolar": [
           {
            "marker": {
             "line": {
              "color": "white",
              "width": 0.5
             },
             "pattern": {
              "fillmode": "overlay",
              "size": 10,
              "solidity": 0.2
             }
            },
            "type": "barpolar"
           }
          ],
          "carpet": [
           {
            "aaxis": {
             "endlinecolor": "#2a3f5f",
             "gridcolor": "#C8D4E3",
             "linecolor": "#C8D4E3",
             "minorgridcolor": "#C8D4E3",
             "startlinecolor": "#2a3f5f"
            },
            "baxis": {
             "endlinecolor": "#2a3f5f",
             "gridcolor": "#C8D4E3",
             "linecolor": "#C8D4E3",
             "minorgridcolor": "#C8D4E3",
             "startlinecolor": "#2a3f5f"
            },
            "type": "carpet"
           }
          ],
          "choropleth": [
           {
            "colorbar": {
             "outlinewidth": 0,
             "ticks": ""
            },
            "type": "choropleth"
           }
          ],
          "contour": [
           {
            "colorbar": {
             "outlinewidth": 0,
             "ticks": ""
            },
            "colorscale": [
             [
              0,
              "#0d0887"
             ],
             [
              0.1111111111111111,
              "#46039f"
             ],
             [
              0.2222222222222222,
              "#7201a8"
             ],
             [
              0.3333333333333333,
              "#9c179e"
             ],
             [
              0.4444444444444444,
              "#bd3786"
             ],
             [
              0.5555555555555556,
              "#d8576b"
             ],
             [
              0.6666666666666666,
              "#ed7953"
             ],
             [
              0.7777777777777778,
              "#fb9f3a"
             ],
             [
              0.8888888888888888,
              "#fdca26"
             ],
             [
              1,
              "#f0f921"
             ]
            ],
            "type": "contour"
           }
          ],
          "contourcarpet": [
           {
            "colorbar": {
             "outlinewidth": 0,
             "ticks": ""
            },
            "type": "contourcarpet"
           }
          ],
          "heatmap": [
           {
            "colorbar": {
             "outlinewidth": 0,
             "ticks": ""
            },
            "colorscale": [
             [
              0,
              "#0d0887"
             ],
             [
              0.1111111111111111,
              "#46039f"
             ],
             [
              0.2222222222222222,
              "#7201a8"
             ],
             [
              0.3333333333333333,
              "#9c179e"
             ],
             [
              0.4444444444444444,
              "#bd3786"
             ],
             [
              0.5555555555555556,
              "#d8576b"
             ],
             [
              0.6666666666666666,
              "#ed7953"
             ],
             [
              0.7777777777777778,
              "#fb9f3a"
             ],
             [
              0.8888888888888888,
              "#fdca26"
             ],
             [
              1,
              "#f0f921"
             ]
            ],
            "type": "heatmap"
           }
          ],
          "heatmapgl": [
           {
            "colorbar": {
             "outlinewidth": 0,
             "ticks": ""
            },
            "colorscale": [
             [
              0,
              "#0d0887"
             ],
             [
              0.1111111111111111,
              "#46039f"
             ],
             [
              0.2222222222222222,
              "#7201a8"
             ],
             [
              0.3333333333333333,
              "#9c179e"
             ],
             [
              0.4444444444444444,
              "#bd3786"
             ],
             [
              0.5555555555555556,
              "#d8576b"
             ],
             [
              0.6666666666666666,
              "#ed7953"
             ],
             [
              0.7777777777777778,
              "#fb9f3a"
             ],
             [
              0.8888888888888888,
              "#fdca26"
             ],
             [
              1,
              "#f0f921"
             ]
            ],
            "type": "heatmapgl"
           }
          ],
          "histogram": [
           {
            "marker": {
             "pattern": {
              "fillmode": "overlay",
              "size": 10,
              "solidity": 0.2
             }
            },
            "type": "histogram"
           }
          ],
          "histogram2d": [
           {
            "colorbar": {
             "outlinewidth": 0,
             "ticks": ""
            },
            "colorscale": [
             [
              0,
              "#0d0887"
             ],
             [
              0.1111111111111111,
              "#46039f"
             ],
             [
              0.2222222222222222,
              "#7201a8"
             ],
             [
              0.3333333333333333,
              "#9c179e"
             ],
             [
              0.4444444444444444,
              "#bd3786"
             ],
             [
              0.5555555555555556,
              "#d8576b"
             ],
             [
              0.6666666666666666,
              "#ed7953"
             ],
             [
              0.7777777777777778,
              "#fb9f3a"
             ],
             [
              0.8888888888888888,
              "#fdca26"
             ],
             [
              1,
              "#f0f921"
             ]
            ],
            "type": "histogram2d"
           }
          ],
          "histogram2dcontour": [
           {
            "colorbar": {
             "outlinewidth": 0,
             "ticks": ""
            },
            "colorscale": [
             [
              0,
              "#0d0887"
             ],
             [
              0.1111111111111111,
              "#46039f"
             ],
             [
              0.2222222222222222,
              "#7201a8"
             ],
             [
              0.3333333333333333,
              "#9c179e"
             ],
             [
              0.4444444444444444,
              "#bd3786"
             ],
             [
              0.5555555555555556,
              "#d8576b"
             ],
             [
              0.6666666666666666,
              "#ed7953"
             ],
             [
              0.7777777777777778,
              "#fb9f3a"
             ],
             [
              0.8888888888888888,
              "#fdca26"
             ],
             [
              1,
              "#f0f921"
             ]
            ],
            "type": "histogram2dcontour"
           }
          ],
          "mesh3d": [
           {
            "colorbar": {
             "outlinewidth": 0,
             "ticks": ""
            },
            "type": "mesh3d"
           }
          ],
          "parcoords": [
           {
            "line": {
             "colorbar": {
              "outlinewidth": 0,
              "ticks": ""
             }
            },
            "type": "parcoords"
           }
          ],
          "pie": [
           {
            "automargin": true,
            "type": "pie"
           }
          ],
          "scatter": [
           {
            "marker": {
             "colorbar": {
              "outlinewidth": 0,
              "ticks": ""
             }
            },
            "type": "scatter"
           }
          ],
          "scatter3d": [
           {
            "line": {
             "colorbar": {
              "outlinewidth": 0,
              "ticks": ""
             }
            },
            "marker": {
             "colorbar": {
              "outlinewidth": 0,
              "ticks": ""
             }
            },
            "type": "scatter3d"
           }
          ],
          "scattercarpet": [
           {
            "marker": {
             "colorbar": {
              "outlinewidth": 0,
              "ticks": ""
             }
            },
            "type": "scattercarpet"
           }
          ],
          "scattergeo": [
           {
            "marker": {
             "colorbar": {
              "outlinewidth": 0,
              "ticks": ""
             }
            },
            "type": "scattergeo"
           }
          ],
          "scattergl": [
           {
            "marker": {
             "colorbar": {
              "outlinewidth": 0,
              "ticks": ""
             }
            },
            "type": "scattergl"
           }
          ],
          "scattermapbox": [
           {
            "marker": {
             "colorbar": {
              "outlinewidth": 0,
              "ticks": ""
             }
            },
            "type": "scattermapbox"
           }
          ],
          "scatterpolar": [
           {
            "marker": {
             "colorbar": {
              "outlinewidth": 0,
              "ticks": ""
             }
            },
            "type": "scatterpolar"
           }
          ],
          "scatterpolargl": [
           {
            "marker": {
             "colorbar": {
              "outlinewidth": 0,
              "ticks": ""
             }
            },
            "type": "scatterpolargl"
           }
          ],
          "scatterternary": [
           {
            "marker": {
             "colorbar": {
              "outlinewidth": 0,
              "ticks": ""
             }
            },
            "type": "scatterternary"
           }
          ],
          "surface": [
           {
            "colorbar": {
             "outlinewidth": 0,
             "ticks": ""
            },
            "colorscale": [
             [
              0,
              "#0d0887"
             ],
             [
              0.1111111111111111,
              "#46039f"
             ],
             [
              0.2222222222222222,
              "#7201a8"
             ],
             [
              0.3333333333333333,
              "#9c179e"
             ],
             [
              0.4444444444444444,
              "#bd3786"
             ],
             [
              0.5555555555555556,
              "#d8576b"
             ],
             [
              0.6666666666666666,
              "#ed7953"
             ],
             [
              0.7777777777777778,
              "#fb9f3a"
             ],
             [
              0.8888888888888888,
              "#fdca26"
             ],
             [
              1,
              "#f0f921"
             ]
            ],
            "type": "surface"
           }
          ],
          "table": [
           {
            "cells": {
             "fill": {
              "color": "#EBF0F8"
             },
             "line": {
              "color": "white"
             }
            },
            "header": {
             "fill": {
              "color": "#C8D4E3"
             },
             "line": {
              "color": "white"
             }
            },
            "type": "table"
           }
          ]
         },
         "layout": {
          "annotationdefaults": {
           "arrowcolor": "#2a3f5f",
           "arrowhead": 0,
           "arrowwidth": 1
          },
          "autotypenumbers": "strict",
          "coloraxis": {
           "colorbar": {
            "outlinewidth": 0,
            "ticks": ""
           }
          },
          "colorscale": {
           "diverging": [
            [
             0,
             "#8e0152"
            ],
            [
             0.1,
             "#c51b7d"
            ],
            [
             0.2,
             "#de77ae"
            ],
            [
             0.3,
             "#f1b6da"
            ],
            [
             0.4,
             "#fde0ef"
            ],
            [
             0.5,
             "#f7f7f7"
            ],
            [
             0.6,
             "#e6f5d0"
            ],
            [
             0.7,
             "#b8e186"
            ],
            [
             0.8,
             "#7fbc41"
            ],
            [
             0.9,
             "#4d9221"
            ],
            [
             1,
             "#276419"
            ]
           ],
           "sequential": [
            [
             0,
             "#0d0887"
            ],
            [
             0.1111111111111111,
             "#46039f"
            ],
            [
             0.2222222222222222,
             "#7201a8"
            ],
            [
             0.3333333333333333,
             "#9c179e"
            ],
            [
             0.4444444444444444,
             "#bd3786"
            ],
            [
             0.5555555555555556,
             "#d8576b"
            ],
            [
             0.6666666666666666,
             "#ed7953"
            ],
            [
             0.7777777777777778,
             "#fb9f3a"
            ],
            [
             0.8888888888888888,
             "#fdca26"
            ],
            [
             1,
             "#f0f921"
            ]
           ],
           "sequentialminus": [
            [
             0,
             "#0d0887"
            ],
            [
             0.1111111111111111,
             "#46039f"
            ],
            [
             0.2222222222222222,
             "#7201a8"
            ],
            [
             0.3333333333333333,
             "#9c179e"
            ],
            [
             0.4444444444444444,
             "#bd3786"
            ],
            [
             0.5555555555555556,
             "#d8576b"
            ],
            [
             0.6666666666666666,
             "#ed7953"
            ],
            [
             0.7777777777777778,
             "#fb9f3a"
            ],
            [
             0.8888888888888888,
             "#fdca26"
            ],
            [
             1,
             "#f0f921"
            ]
           ]
          },
          "colorway": [
           "#636efa",
           "#EF553B",
           "#00cc96",
           "#ab63fa",
           "#FFA15A",
           "#19d3f3",
           "#FF6692",
           "#B6E880",
           "#FF97FF",
           "#FECB52"
          ],
          "font": {
           "color": "#2a3f5f"
          },
          "geo": {
           "bgcolor": "white",
           "lakecolor": "white",
           "landcolor": "white",
           "showlakes": true,
           "showland": true,
           "subunitcolor": "#C8D4E3"
          },
          "hoverlabel": {
           "align": "left"
          },
          "hovermode": "closest",
          "mapbox": {
           "style": "light"
          },
          "paper_bgcolor": "white",
          "plot_bgcolor": "white",
          "polar": {
           "angularaxis": {
            "gridcolor": "#EBF0F8",
            "linecolor": "#EBF0F8",
            "ticks": ""
           },
           "bgcolor": "white",
           "radialaxis": {
            "gridcolor": "#EBF0F8",
            "linecolor": "#EBF0F8",
            "ticks": ""
           }
          },
          "scene": {
           "xaxis": {
            "backgroundcolor": "white",
            "gridcolor": "#DFE8F3",
            "gridwidth": 2,
            "linecolor": "#EBF0F8",
            "showbackground": true,
            "ticks": "",
            "zerolinecolor": "#EBF0F8"
           },
           "yaxis": {
            "backgroundcolor": "white",
            "gridcolor": "#DFE8F3",
            "gridwidth": 2,
            "linecolor": "#EBF0F8",
            "showbackground": true,
            "ticks": "",
            "zerolinecolor": "#EBF0F8"
           },
           "zaxis": {
            "backgroundcolor": "white",
            "gridcolor": "#DFE8F3",
            "gridwidth": 2,
            "linecolor": "#EBF0F8",
            "showbackground": true,
            "ticks": "",
            "zerolinecolor": "#EBF0F8"
           }
          },
          "shapedefaults": {
           "line": {
            "color": "#2a3f5f"
           }
          },
          "ternary": {
           "aaxis": {
            "gridcolor": "#DFE8F3",
            "linecolor": "#A2B1C6",
            "ticks": ""
           },
           "baxis": {
            "gridcolor": "#DFE8F3",
            "linecolor": "#A2B1C6",
            "ticks": ""
           },
           "bgcolor": "white",
           "caxis": {
            "gridcolor": "#DFE8F3",
            "linecolor": "#A2B1C6",
            "ticks": ""
           }
          },
          "title": {
           "x": 0.05
          },
          "xaxis": {
           "automargin": true,
           "gridcolor": "#EBF0F8",
           "linecolor": "#EBF0F8",
           "ticks": "",
           "title": {
            "standoff": 15
           },
           "zerolinecolor": "#EBF0F8",
           "zerolinewidth": 2
          },
          "yaxis": {
           "automargin": true,
           "gridcolor": "#EBF0F8",
           "linecolor": "#EBF0F8",
           "ticks": "",
           "title": {
            "standoff": 15
           },
           "zerolinecolor": "#EBF0F8",
           "zerolinewidth": 2
          }
         }
        },
        "title": {
         "text": "MARATHON MEDALS -\nMALE ATHLETES"
        },
        "xaxis": {
         "anchor": "y",
         "domain": [
          0,
          1
         ],
         "title": {
          "text": "Team"
         }
        },
        "yaxis": {
         "anchor": "x",
         "domain": [
          0,
          1
         ],
         "title": {
          "text": "Medal count"
         }
        }
       }
      },
      "text/html": [
       "<div>                            <div id=\"a04759c7-adea-4816-a4a4-a492aa9f2595\" class=\"plotly-graph-div\" style=\"height:525px; width:100%;\"></div>            <script type=\"text/javascript\">                require([\"plotly\"], function(Plotly) {                    window.PLOTLYENV=window.PLOTLYENV || {};                                    if (document.getElementById(\"a04759c7-adea-4816-a4a4-a492aa9f2595\")) {                    Plotly.newPlot(                        \"a04759c7-adea-4816-a4a4-a492aa9f2595\",                        [{\"alignmentgroup\":\"True\",\"customdata\":[[\"Gold\"],[\"Gold\"],[\"Gold\"],[\"Gold\"],[\"Gold\"],[\"Gold\"],[\"Gold\"],[\"Gold\"],[\"Gold\"],[\"Gold\"]],\"hovertemplate\":\"Medal=%{customdata[0]}<br>Team=%{x}<br>Medal count=%{y}<extra></extra>\",\"legendgroup\":\"Gold\",\"marker\":{\"color\":\"yellow\",\"pattern\":{\"shape\":\"\"}},\"name\":\"Gold\",\"offsetgroup\":\"Gold\",\"orientation\":\"v\",\"showlegend\":true,\"text\":[\"Gold\",\"Gold\",\"Gold\",\"Gold\",\"Gold\",\"Gold\",\"Gold\",\"Gold\",\"Gold\",\"Gold\"],\"textposition\":\"auto\",\"x\":[\"Ethiopia\",\"Ethiopia\",\"Ethiopia\",\"South Korea\",\"Kenya\",\"Portugal\",\"United States\",\"Japan\",\"Kenya\",\"Ethiopia\"],\"xaxis\":\"x\",\"y\":[1,1,1,1,1,1,1,1,1,1],\"yaxis\":\"y\",\"type\":\"bar\"},{\"alignmentgroup\":\"True\",\"customdata\":[[\"Silver\"],[\"Silver\"],[\"Silver\"],[\"Silver\"],[\"Silver\"],[\"Silver\"],[\"Silver\"],[\"Silver\"],[\"Silver\"],[\"Silver\"],[\"Silver\"],[\"Silver\"],[\"Silver\"]],\"hovertemplate\":\"Medal=%{customdata[0]}<br>Team=%{x}<br>Medal count=%{y}<extra></extra>\",\"legendgroup\":\"Silver\",\"marker\":{\"color\":\"silver\",\"pattern\":{\"shape\":\"\"}},\"name\":\"Silver\",\"offsetgroup\":\"Silver\",\"orientation\":\"v\",\"showlegend\":true,\"text\":[\"Silver\",\"Silver\",\"Silver\",\"Silver\",\"Silver\",\"Silver\",\"Silver\",\"Silver\",\"Silver\",\"Silver\",\"Silver\",\"Silver\",\"Silver\"],\"textposition\":\"auto\",\"x\":[\"Great Britain\",\"Great Britain\",\"Great Britain\",\"United States\",\"Japan\",\"Kenya\",\"South Korea\",\"Ethiopia\",\"Japan\",\"Great Britain\",\"United States\",\"Kenya\",\"Kenya\"],\"xaxis\":\"x\",\"y\":[1,1,1,1,1,1,1,1,1,1,1,1,1],\"yaxis\":\"y\",\"type\":\"bar\"},{\"alignmentgroup\":\"True\",\"customdata\":[[\"Bronze\"],[\"Bronze\"],[\"Bronze\"],[\"Bronze\"],[\"Bronze\"],[\"Bronze\"],[\"Bronze\"],[\"Bronze\"],[\"Bronze\"]],\"hovertemplate\":\"Medal=%{customdata[0]}<br>Team=%{x}<br>Medal count=%{y}<extra></extra>\",\"legendgroup\":\"Bronze\",\"marker\":{\"color\":\"orange\",\"pattern\":{\"shape\":\"\"}},\"name\":\"Bronze\",\"offsetgroup\":\"Bronze\",\"orientation\":\"v\",\"showlegend\":true,\"text\":[\"Bronze\",\"Bronze\",\"Bronze\",\"Bronze\",\"Bronze\",\"Bronze\",\"Bronze\",\"Bronze\",\"Bronze\"],\"textposition\":\"auto\",\"x\":[\"Ethiopia\",\"Kenya\",\"Japan\",\"United States\",\"Great Britain\",\"Ethiopia\",\"Japan\",\"Kenya\",\"Ethiopia\"],\"xaxis\":\"x\",\"y\":[1,1,1,1,1,1,1,1,1],\"yaxis\":\"y\",\"type\":\"bar\"}],                        {\"template\":{\"data\":{\"barpolar\":[{\"marker\":{\"line\":{\"color\":\"white\",\"width\":0.5},\"pattern\":{\"fillmode\":\"overlay\",\"size\":10,\"solidity\":0.2}},\"type\":\"barpolar\"}],\"bar\":[{\"error_x\":{\"color\":\"#2a3f5f\"},\"error_y\":{\"color\":\"#2a3f5f\"},\"marker\":{\"line\":{\"color\":\"white\",\"width\":0.5},\"pattern\":{\"fillmode\":\"overlay\",\"size\":10,\"solidity\":0.2}},\"type\":\"bar\"}],\"carpet\":[{\"aaxis\":{\"endlinecolor\":\"#2a3f5f\",\"gridcolor\":\"#C8D4E3\",\"linecolor\":\"#C8D4E3\",\"minorgridcolor\":\"#C8D4E3\",\"startlinecolor\":\"#2a3f5f\"},\"baxis\":{\"endlinecolor\":\"#2a3f5f\",\"gridcolor\":\"#C8D4E3\",\"linecolor\":\"#C8D4E3\",\"minorgridcolor\":\"#C8D4E3\",\"startlinecolor\":\"#2a3f5f\"},\"type\":\"carpet\"}],\"choropleth\":[{\"colorbar\":{\"outlinewidth\":0,\"ticks\":\"\"},\"type\":\"choropleth\"}],\"contourcarpet\":[{\"colorbar\":{\"outlinewidth\":0,\"ticks\":\"\"},\"type\":\"contourcarpet\"}],\"contour\":[{\"colorbar\":{\"outlinewidth\":0,\"ticks\":\"\"},\"colorscale\":[[0.0,\"#0d0887\"],[0.1111111111111111,\"#46039f\"],[0.2222222222222222,\"#7201a8\"],[0.3333333333333333,\"#9c179e\"],[0.4444444444444444,\"#bd3786\"],[0.5555555555555556,\"#d8576b\"],[0.6666666666666666,\"#ed7953\"],[0.7777777777777778,\"#fb9f3a\"],[0.8888888888888888,\"#fdca26\"],[1.0,\"#f0f921\"]],\"type\":\"contour\"}],\"heatmapgl\":[{\"colorbar\":{\"outlinewidth\":0,\"ticks\":\"\"},\"colorscale\":[[0.0,\"#0d0887\"],[0.1111111111111111,\"#46039f\"],[0.2222222222222222,\"#7201a8\"],[0.3333333333333333,\"#9c179e\"],[0.4444444444444444,\"#bd3786\"],[0.5555555555555556,\"#d8576b\"],[0.6666666666666666,\"#ed7953\"],[0.7777777777777778,\"#fb9f3a\"],[0.8888888888888888,\"#fdca26\"],[1.0,\"#f0f921\"]],\"type\":\"heatmapgl\"}],\"heatmap\":[{\"colorbar\":{\"outlinewidth\":0,\"ticks\":\"\"},\"colorscale\":[[0.0,\"#0d0887\"],[0.1111111111111111,\"#46039f\"],[0.2222222222222222,\"#7201a8\"],[0.3333333333333333,\"#9c179e\"],[0.4444444444444444,\"#bd3786\"],[0.5555555555555556,\"#d8576b\"],[0.6666666666666666,\"#ed7953\"],[0.7777777777777778,\"#fb9f3a\"],[0.8888888888888888,\"#fdca26\"],[1.0,\"#f0f921\"]],\"type\":\"heatmap\"}],\"histogram2dcontour\":[{\"colorbar\":{\"outlinewidth\":0,\"ticks\":\"\"},\"colorscale\":[[0.0,\"#0d0887\"],[0.1111111111111111,\"#46039f\"],[0.2222222222222222,\"#7201a8\"],[0.3333333333333333,\"#9c179e\"],[0.4444444444444444,\"#bd3786\"],[0.5555555555555556,\"#d8576b\"],[0.6666666666666666,\"#ed7953\"],[0.7777777777777778,\"#fb9f3a\"],[0.8888888888888888,\"#fdca26\"],[1.0,\"#f0f921\"]],\"type\":\"histogram2dcontour\"}],\"histogram2d\":[{\"colorbar\":{\"outlinewidth\":0,\"ticks\":\"\"},\"colorscale\":[[0.0,\"#0d0887\"],[0.1111111111111111,\"#46039f\"],[0.2222222222222222,\"#7201a8\"],[0.3333333333333333,\"#9c179e\"],[0.4444444444444444,\"#bd3786\"],[0.5555555555555556,\"#d8576b\"],[0.6666666666666666,\"#ed7953\"],[0.7777777777777778,\"#fb9f3a\"],[0.8888888888888888,\"#fdca26\"],[1.0,\"#f0f921\"]],\"type\":\"histogram2d\"}],\"histogram\":[{\"marker\":{\"pattern\":{\"fillmode\":\"overlay\",\"size\":10,\"solidity\":0.2}},\"type\":\"histogram\"}],\"mesh3d\":[{\"colorbar\":{\"outlinewidth\":0,\"ticks\":\"\"},\"type\":\"mesh3d\"}],\"parcoords\":[{\"line\":{\"colorbar\":{\"outlinewidth\":0,\"ticks\":\"\"}},\"type\":\"parcoords\"}],\"pie\":[{\"automargin\":true,\"type\":\"pie\"}],\"scatter3d\":[{\"line\":{\"colorbar\":{\"outlinewidth\":0,\"ticks\":\"\"}},\"marker\":{\"colorbar\":{\"outlinewidth\":0,\"ticks\":\"\"}},\"type\":\"scatter3d\"}],\"scattercarpet\":[{\"marker\":{\"colorbar\":{\"outlinewidth\":0,\"ticks\":\"\"}},\"type\":\"scattercarpet\"}],\"scattergeo\":[{\"marker\":{\"colorbar\":{\"outlinewidth\":0,\"ticks\":\"\"}},\"type\":\"scattergeo\"}],\"scattergl\":[{\"marker\":{\"colorbar\":{\"outlinewidth\":0,\"ticks\":\"\"}},\"type\":\"scattergl\"}],\"scattermapbox\":[{\"marker\":{\"colorbar\":{\"outlinewidth\":0,\"ticks\":\"\"}},\"type\":\"scattermapbox\"}],\"scatterpolargl\":[{\"marker\":{\"colorbar\":{\"outlinewidth\":0,\"ticks\":\"\"}},\"type\":\"scatterpolargl\"}],\"scatterpolar\":[{\"marker\":{\"colorbar\":{\"outlinewidth\":0,\"ticks\":\"\"}},\"type\":\"scatterpolar\"}],\"scatter\":[{\"marker\":{\"colorbar\":{\"outlinewidth\":0,\"ticks\":\"\"}},\"type\":\"scatter\"}],\"scatterternary\":[{\"marker\":{\"colorbar\":{\"outlinewidth\":0,\"ticks\":\"\"}},\"type\":\"scatterternary\"}],\"surface\":[{\"colorbar\":{\"outlinewidth\":0,\"ticks\":\"\"},\"colorscale\":[[0.0,\"#0d0887\"],[0.1111111111111111,\"#46039f\"],[0.2222222222222222,\"#7201a8\"],[0.3333333333333333,\"#9c179e\"],[0.4444444444444444,\"#bd3786\"],[0.5555555555555556,\"#d8576b\"],[0.6666666666666666,\"#ed7953\"],[0.7777777777777778,\"#fb9f3a\"],[0.8888888888888888,\"#fdca26\"],[1.0,\"#f0f921\"]],\"type\":\"surface\"}],\"table\":[{\"cells\":{\"fill\":{\"color\":\"#EBF0F8\"},\"line\":{\"color\":\"white\"}},\"header\":{\"fill\":{\"color\":\"#C8D4E3\"},\"line\":{\"color\":\"white\"}},\"type\":\"table\"}]},\"layout\":{\"annotationdefaults\":{\"arrowcolor\":\"#2a3f5f\",\"arrowhead\":0,\"arrowwidth\":1},\"autotypenumbers\":\"strict\",\"coloraxis\":{\"colorbar\":{\"outlinewidth\":0,\"ticks\":\"\"}},\"colorscale\":{\"diverging\":[[0,\"#8e0152\"],[0.1,\"#c51b7d\"],[0.2,\"#de77ae\"],[0.3,\"#f1b6da\"],[0.4,\"#fde0ef\"],[0.5,\"#f7f7f7\"],[0.6,\"#e6f5d0\"],[0.7,\"#b8e186\"],[0.8,\"#7fbc41\"],[0.9,\"#4d9221\"],[1,\"#276419\"]],\"sequential\":[[0.0,\"#0d0887\"],[0.1111111111111111,\"#46039f\"],[0.2222222222222222,\"#7201a8\"],[0.3333333333333333,\"#9c179e\"],[0.4444444444444444,\"#bd3786\"],[0.5555555555555556,\"#d8576b\"],[0.6666666666666666,\"#ed7953\"],[0.7777777777777778,\"#fb9f3a\"],[0.8888888888888888,\"#fdca26\"],[1.0,\"#f0f921\"]],\"sequentialminus\":[[0.0,\"#0d0887\"],[0.1111111111111111,\"#46039f\"],[0.2222222222222222,\"#7201a8\"],[0.3333333333333333,\"#9c179e\"],[0.4444444444444444,\"#bd3786\"],[0.5555555555555556,\"#d8576b\"],[0.6666666666666666,\"#ed7953\"],[0.7777777777777778,\"#fb9f3a\"],[0.8888888888888888,\"#fdca26\"],[1.0,\"#f0f921\"]]},\"colorway\":[\"#636efa\",\"#EF553B\",\"#00cc96\",\"#ab63fa\",\"#FFA15A\",\"#19d3f3\",\"#FF6692\",\"#B6E880\",\"#FF97FF\",\"#FECB52\"],\"font\":{\"color\":\"#2a3f5f\"},\"geo\":{\"bgcolor\":\"white\",\"lakecolor\":\"white\",\"landcolor\":\"white\",\"showlakes\":true,\"showland\":true,\"subunitcolor\":\"#C8D4E3\"},\"hoverlabel\":{\"align\":\"left\"},\"hovermode\":\"closest\",\"mapbox\":{\"style\":\"light\"},\"paper_bgcolor\":\"white\",\"plot_bgcolor\":\"white\",\"polar\":{\"angularaxis\":{\"gridcolor\":\"#EBF0F8\",\"linecolor\":\"#EBF0F8\",\"ticks\":\"\"},\"bgcolor\":\"white\",\"radialaxis\":{\"gridcolor\":\"#EBF0F8\",\"linecolor\":\"#EBF0F8\",\"ticks\":\"\"}},\"scene\":{\"xaxis\":{\"backgroundcolor\":\"white\",\"gridcolor\":\"#DFE8F3\",\"gridwidth\":2,\"linecolor\":\"#EBF0F8\",\"showbackground\":true,\"ticks\":\"\",\"zerolinecolor\":\"#EBF0F8\"},\"yaxis\":{\"backgroundcolor\":\"white\",\"gridcolor\":\"#DFE8F3\",\"gridwidth\":2,\"linecolor\":\"#EBF0F8\",\"showbackground\":true,\"ticks\":\"\",\"zerolinecolor\":\"#EBF0F8\"},\"zaxis\":{\"backgroundcolor\":\"white\",\"gridcolor\":\"#DFE8F3\",\"gridwidth\":2,\"linecolor\":\"#EBF0F8\",\"showbackground\":true,\"ticks\":\"\",\"zerolinecolor\":\"#EBF0F8\"}},\"shapedefaults\":{\"line\":{\"color\":\"#2a3f5f\"}},\"ternary\":{\"aaxis\":{\"gridcolor\":\"#DFE8F3\",\"linecolor\":\"#A2B1C6\",\"ticks\":\"\"},\"baxis\":{\"gridcolor\":\"#DFE8F3\",\"linecolor\":\"#A2B1C6\",\"ticks\":\"\"},\"bgcolor\":\"white\",\"caxis\":{\"gridcolor\":\"#DFE8F3\",\"linecolor\":\"#A2B1C6\",\"ticks\":\"\"}},\"title\":{\"x\":0.05},\"xaxis\":{\"automargin\":true,\"gridcolor\":\"#EBF0F8\",\"linecolor\":\"#EBF0F8\",\"ticks\":\"\",\"title\":{\"standoff\":15},\"zerolinecolor\":\"#EBF0F8\",\"zerolinewidth\":2},\"yaxis\":{\"automargin\":true,\"gridcolor\":\"#EBF0F8\",\"linecolor\":\"#EBF0F8\",\"ticks\":\"\",\"title\":{\"standoff\":15},\"zerolinecolor\":\"#EBF0F8\",\"zerolinewidth\":2}}},\"xaxis\":{\"anchor\":\"y\",\"domain\":[0.0,1.0],\"title\":{\"text\":\"Team\"}},\"yaxis\":{\"anchor\":\"x\",\"domain\":[0.0,1.0],\"title\":{\"text\":\"Medal count\"}},\"legend\":{\"title\":{\"text\":\"Medal\"},\"tracegroupgap\":0},\"title\":{\"text\":\"MARATHON MEDALS -\\nMALE ATHLETES\"},\"barmode\":\"relative\"},                        {\"responsive\": true}                    ).then(function(){\n",
       "                            \n",
       "var gd = document.getElementById('a04759c7-adea-4816-a4a4-a492aa9f2595');\n",
       "var x = new MutationObserver(function (mutations, observer) {{\n",
       "        var display = window.getComputedStyle(gd).display;\n",
       "        if (!display || display === 'none') {{\n",
       "            console.log([gd, 'removed!']);\n",
       "            Plotly.purge(gd);\n",
       "            observer.disconnect();\n",
       "        }}\n",
       "}});\n",
       "\n",
       "// Listen for the removal of the full notebook cells\n",
       "var notebookContainer = gd.closest('#notebook-container');\n",
       "if (notebookContainer) {{\n",
       "    x.observe(notebookContainer, {childList: true});\n",
       "}}\n",
       "\n",
       "// Listen for the clearing of the current output cell\n",
       "var outputEl = gd.closest('.output');\n",
       "if (outputEl) {{\n",
       "    x.observe(outputEl, {childList: true});\n",
       "}}\n",
       "\n",
       "                        })                };                });            </script>        </div>"
      ]
     },
     "metadata": {},
     "output_type": "display_data"
    }
   ],
   "source": [
    "fig = px.bar(marathon_men_focus_df, x='Team',\n",
    "             hover_data=['Team', 'Medal'], color='Medal',\n",
    "             labels={'count':'Medal count'}, title='MARATHON MEDALS -\\nMALE ATHLETES', text=\"Medal\", color_discrete_map={\n",
    "        'Gold': 'yellow',\n",
    "        'Silver': 'silver',\n",
    "        'Bronze': 'orange'\n",
    "    },  template = \"plotly_white\",)\n",
    "fig.update_layout()\n",
    "fig.show()"
   ]
  },
  {
   "cell_type": "markdown",
   "id": "5b6a57cd",
   "metadata": {},
   "source": [
    "Marimekko:\n",
    "Different visual. Here we'll only look at the medalists and see the different medals from the selected countries.\n",
    "Oh, women medalists, to be specific. Analysis is done on female athletes.\n"
   ]
  },
  {
   "cell_type": "code",
   "execution_count": 19,
   "id": "535aaf86",
   "metadata": {},
   "outputs": [],
   "source": [
    "from statsmodels.graphics.mosaicplot import mosaic"
   ]
  },
  {
   "cell_type": "code",
   "execution_count": 50,
   "id": "f204a1e4",
   "metadata": {
    "scrolled": false
   },
   "outputs": [
    {
     "data": {
      "image/png": "[encoded data removed]",
      "text/plain": [
       "<Figure size 1440x1008 with 3 Axes>"
      ]
     },
     "metadata": {},
     "output_type": "display_data"
    }
   ],
   "source": [
    "fig, ax = plt.subplots(figsize=(20, 14))\n",
    "props = {}\n",
    "props[('United States', 'Gold')] = {'facecolor': 'xkcd:gold',\n",
    "                       'edgecolor':'xkcd:light grey',\n",
    "                       'hatch':'o'}\n",
    "props[('Japan', 'Gold')] = {'facecolor': 'salmon',\n",
    "                       'edgecolor':'xkcd:light grey',\n",
    "                       'hatch':'o'}\n",
    "props[('Kenya', 'Gold')] = {'facecolor': 'lightgreen',\n",
    "                       'edgecolor':'xkcd:light grey',\n",
    "                       'hatch':'o'}\n",
    "props[('Ethiopia', 'Gold')] = {'facecolor': 'xkcd:aqua',\n",
    "                       'edgecolor':'xkcd:light grey',\n",
    "                       'hatch':'o'}\n",
    "props[('Portugal', 'Gold')] = {'facecolor': 'xkcd:pink',\n",
    "                       'edgecolor':'xkcd:light grey',\n",
    "                       'hatch':'o'}\n",
    "props[('Japan', 'Silver')] = {'facecolor': 'coral',\n",
    "                       }\n",
    "props[('Kenya', 'Silver')] = {'facecolor': 'green',\n",
    "                      }\n",
    "props[('Ethiopia', 'Silver')] = {'facecolor': 'black',\n",
    "                       }\n",
    "props[('United States', 'Bronze')] = {'facecolor': 'xkcd:khaki',\n",
    "                                      \n",
    "                       }\n",
    "props[('Japan', 'Bronze')] = {'facecolor': 'crimson',\n",
    "                       }\n",
    "props[('Kenya', 'Bronze')] = {'facecolor': 'xkcd:lime',\n",
    "                      }\n",
    "props[('Ethiopia', 'Bronze')] = {'facecolor': 'xkcd:azure',\n",
    "                       }\n",
    "props[('Portugal', 'Bronze')] = {'facecolor': 'orchid',\n",
    "                       }\n",
    "ax.tick_params(axis='x', colors=\"black\", size=30, labelsize=21)\n",
    "ax.tick_params(axis='y', colors=\"black\", size=20, labelsize=21)\n",
    "plt.rcParams.update({'font.size': 27})\n",
    "mosaic(marathon_women_mosaic, [\"Team\", \"Medal\"], gap=0.015, ax=ax, properties=props)\n",
    "plt.title(\"Marathon Medals - Female Athletes\", fontsize = 36)\n",
    "plt.show()"
   ]
  },
  {
   "cell_type": "markdown",
   "id": "ddf88f6a",
   "metadata": {},
   "source": [
    "The bar widths here represent the volume/number of medals won by each specific Nation/Team; something that regular stacked bars cannot visualize."
   ]
  }
 ],
 "metadata": {
  "kernelspec": {
   "display_name": "Python 3 (ipykernel)",
   "language": "python",
   "name": "python3"
  },
  "language_info": {
   "codemirror_mode": {
    "name": "ipython",
    "version": 3
   },
   "file_extension": ".py",
   "mimetype": "text/x-python",
   "name": "python",
   "nbconvert_exporter": "python",
   "pygments_lexer": "ipython3",
   "version": "3.7.6"
  }
 },
 "nbformat": 4,
 "nbformat_minor": 5
}
